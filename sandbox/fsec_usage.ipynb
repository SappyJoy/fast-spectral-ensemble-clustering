{
 "cells": [
  {
   "cell_type": "code",
   "execution_count": null,
   "metadata": {},
   "outputs": [
    {
     "data": {
      "text/plain": [
       "<RootLogger root (WARNING)>"
      ]
     },
     "execution_count": 4,
     "metadata": {},
     "output_type": "execute_result"
    }
   ],
   "source": [
    "import logging"
   ]
  },
  {
   "cell_type": "code",
   "execution_count": 10,
   "metadata": {},
   "outputs": [
    {
     "name": "stdout",
     "output_type": "stream",
     "text": [
      "Clustering Accuracy: 0.6600\n"
     ]
    }
   ],
   "source": [
    "# In a new script or Jupyter notebook\n",
    "from sklearn.datasets import load_iris\n",
    "from sklearn.preprocessing import StandardScaler\n",
    "from fsec.clustering import FSEC\n",
    "\n",
    "# Load data\n",
    "X, y = load_iris(return_X_y=True)\n",
    "X = StandardScaler().fit_transform(X)\n",
    "\n",
    "# Initialize and fit FSEC\n",
    "fsec = FSEC(final_n_clusters=3)\n",
    "labels = fsec.fit_predict(X)\n",
    "\n",
    "# Evaluate\n",
    "from fsec.utils import clustering_accuracy\n",
    "acc = clustering_accuracy(y, labels)\n",
    "print(f\"Clustering Accuracy: {acc:.4f}\")\n"
   ]
  }
 ],
 "metadata": {
  "kernelspec": {
   "display_name": "fsec",
   "language": "python",
   "name": "fsec"
  },
  "language_info": {
   "codemirror_mode": {
    "name": "ipython",
    "version": 3
   },
   "file_extension": ".py",
   "mimetype": "text/x-python",
   "name": "python",
   "nbconvert_exporter": "python",
   "pygments_lexer": "ipython3",
   "version": "3.12.7"
  }
 },
 "nbformat": 4,
 "nbformat_minor": 2
}
